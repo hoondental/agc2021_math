{
 "cells": [
  {
   "cell_type": "code",
   "execution_count": 1,
   "metadata": {},
   "outputs": [],
   "source": [
    "import os\n",
    "import re\n",
    "import numpy as np\n",
    "\n",
    "from pororo import Pororo\n",
    "from jamo import h2j, j2hcj\n",
    "\n",
    "from io import StringIO\n",
    "from contextlib import redirect_stdout\n",
    "from koparadigm import Paradigm, prettify\n",
    "\n",
    "from pkg.util import read_problemsheet, write_problemsheet\n",
    "from pkg.parse import *\n",
    "from pkg.words import *\n",
    "from problems import *\n"
   ]
  },
  {
   "cell_type": "code",
   "execution_count": 2,
   "metadata": {},
   "outputs": [
    {
     "name": "stdout",
     "output_type": "stream",
     "text": [
      "Pororo Factory Base, task_config TaskConfig(task='gec', lang='ko', n_model='charbert.base.ko.spacing')\n",
      "Init PororoGecFactory\n",
      "gec\n",
      "ko\n",
      "None\n",
      "As of now, this beta model tries to correct spacing errors in Korean text.\n"
     ]
    }
   ],
   "source": [
    "from pororo import Pororo\n",
    "gec, gec_factory = Pororo(task=\"gec\", lang=\"kr\")"
   ]
  },
  {
   "cell_type": "code",
   "execution_count": 3,
   "metadata": {},
   "outputs": [],
   "source": [
    "def verify(cls, gec=gec):\n",
    "    print('====================', cls, '======================')\n",
    "    print(cls.description())\n",
    "    values, question = cls.random_question()\n",
    "    print('question:')\n",
    "    print(question)\n",
    "    print(gec(question))\n",
    "    print('values:', values)\n",
    "    answer, equation = cls.solve(*values)\n",
    "    print('answer:', answer)\n",
    "    print('---- equation ----')\n",
    "    print(equation)     "
   ]
  },
  {
   "cell_type": "code",
   "execution_count": 4,
   "metadata": {},
   "outputs": [
    {
     "name": "stdout",
     "output_type": "stream",
     "text": [
      "==================== <class 'problems.P1_1_1'> ======================\n",
      "범위가 주어진 홀수의 합, 경계 포함\n",
      "question:\n",
      "708 부터 973 까지 홀수의 더하면 은 얼마인가\n",
      "708부터 973까지 홀수의 더하면은 얼마인가\n",
      "values: (708, 973)\n",
      "answer: 111853\n",
      "---- equation ----\n",
      "sum = 0\n",
      "for i in range(708, 973 + 1):\n",
      "    if i % 2 == 1:\n",
      "        sum += i\n",
      "print(sum)\n"
     ]
    }
   ],
   "source": [
    "verify(P1_1_1)"
   ]
  },
  {
   "cell_type": "code",
   "execution_count": 5,
   "metadata": {},
   "outputs": [
    {
     "name": "stdout",
     "output_type": "stream",
     "text": [
      "==================== <class 'problems.P1_1_2'> ======================\n",
      "범위가 주어진 홀수의 합, 오른쪽 경계 포함\n",
      "question:\n",
      "204 보다 크고 647 까지의 수 중에서 홀수의 총합 이 무엇인가\n",
      "204보다 크고 647까지의 수 중에서 홀수의 총합이 무엇인가\n",
      "values: (204, 647)\n",
      "answer: 94572\n",
      "---- equation ----\n",
      "sum = 0\n",
      "for i in range(205, 647 + 1):\n",
      "    if i % 2 == 1:\n",
      "        sum += i\n",
      "print(sum)\n"
     ]
    }
   ],
   "source": [
    "verify(P1_1_2)"
   ]
  },
  {
   "cell_type": "code",
   "execution_count": 6,
   "metadata": {},
   "outputs": [
    {
     "name": "stdout",
     "output_type": "stream",
     "text": [
      "==================== <class 'problems.P1_1_3'> ======================\n",
      "범위가 주어진 홀수의 합, 왼쪽 경계 포함\n",
      "question:\n",
      "283 보다 크거나 같고 327 보다 적은 홀수를 총합 이 몇 일까\n",
      "283보다 크거나 같고 327보다 적은 홀수를 총합이 몇 일까\n",
      "values: (283, 327)\n",
      "answer: 6688\n",
      "---- equation ----\n",
      "sum = 0\n",
      "for i in range(283, 327):\n",
      "    if i % 2 == 1:\n",
      "        sum += i\n",
      "print(sum)\n"
     ]
    }
   ],
   "source": [
    "verify(P1_1_3)"
   ]
  },
  {
   "cell_type": "code",
   "execution_count": 7,
   "metadata": {},
   "outputs": [
    {
     "name": "stdout",
     "output_type": "stream",
     "text": [
      "==================== <class 'problems.P1_1_4'> ======================\n",
      "범위가 주어진 홀수의 합, 경계 불포함\n",
      "question:\n",
      "389 보다 크고 586 보다 작은 홀수 합 이 몇 개 일까\n",
      "389보다 크고 586보다 작은 홀수합이 몇 개일까\n",
      "values: (389, 586)\n",
      "answer: 47824\n",
      "---- equation ----\n",
      "sum = 0\n",
      "for i in range(390, 586):\n",
      "    if i % 2 == 1:\n",
      "        sum += i\n",
      "print(sum)\n"
     ]
    }
   ],
   "source": [
    "verify(P1_1_4)"
   ]
  },
  {
   "cell_type": "code",
   "execution_count": 8,
   "metadata": {},
   "outputs": [
    {
     "name": "stdout",
     "output_type": "stream",
     "text": [
      "==================== <class 'problems.P1_1_5'> ======================\n",
      "범위가 주어진 짝수의 합, 경계 포함\n",
      "question:\n",
      "36 부터 699 까지 수 중에서 짝수를 합 이가 몇 개 인가\n",
      "36부터 699까지 수 중에서 짝수를 합이가 몇 개인가\n",
      "values: (36, 699)\n",
      "answer: 121844\n",
      "---- equation ----\n",
      "sum = 0\n",
      "for i in range(36, 699 + 1):\n",
      "    if i % 2 == 0:\n",
      "        sum += i\n",
      "print(sum)\n"
     ]
    }
   ],
   "source": [
    "verify(P1_1_5)"
   ]
  },
  {
   "cell_type": "code",
   "execution_count": 9,
   "metadata": {},
   "outputs": [
    {
     "name": "stdout",
     "output_type": "stream",
     "text": [
      "==================== <class 'problems.P1_1_6'> ======================\n",
      "범위가 주어진 짝수의 합, 오른쪽 경계 포함\n",
      "question:\n",
      "565 보다 많고 905 보다 적거나 같은 수 중 짝수 총 합 은 얼마인가\n",
      "565보다 많고 905보다 적거나 같은 수중 짝수 총합은 얼마인가\n",
      "values: (565, 905)\n",
      "answer: 124950\n",
      "---- equation ----\n",
      "sum = 0\n",
      "for i in range(565 + 1, 905 + 1):\n",
      "    if i % 2 == 0:\n",
      "        sum += i\n",
      "print(sum)\n"
     ]
    }
   ],
   "source": [
    "verify(P1_1_6)"
   ]
  },
  {
   "cell_type": "code",
   "execution_count": 10,
   "metadata": {},
   "outputs": [
    {
     "name": "stdout",
     "output_type": "stream",
     "text": [
      "==================== <class 'problems.P1_1_7'> ======================\n",
      "범위가 주어진 짝수의 합, 왼쪽 경계 포함\n",
      "question:\n",
      "685 보다 크거나 같고 895 보다 적은 수 중 짝수의 합 은 얼마인가요\n",
      "685보다 크거나 같고 895보다 적은 수중 짝수의 합은 얼마인가요\n",
      "values: (685, 895)\n",
      "answer: 82950\n",
      "---- equation ----\n",
      "sum = 0\n",
      "for i in range(685, 895):\n",
      "    if i % 2 == 0:\n",
      "        sum += i\n",
      "print(sum)\n"
     ]
    }
   ],
   "source": [
    "verify(P1_1_7)"
   ]
  },
  {
   "cell_type": "code",
   "execution_count": 11,
   "metadata": {},
   "outputs": [
    {
     "name": "stdout",
     "output_type": "stream",
     "text": [
      "==================== <class 'problems.P1_1_8'> ======================\n",
      "범위가 주어진 짝수의 합, 경계 불포함\n",
      "question:\n",
      "591 보다 많고 730 보다 작은 짝수 더하면 은 무엇일까\n",
      "591보다 많고 730보다 작은 짝수 더하면은 무엇일까\n",
      "values: (591, 730)\n",
      "answer: 45540\n",
      "---- equation ----\n",
      "sum = 0\n",
      "for i in range(591 + 1, 730):\n",
      "    if i % 2 == 0:\n",
      "        sum += i\n",
      "print(sum)\n"
     ]
    }
   ],
   "source": [
    "verify(P1_1_8)"
   ]
  },
  {
   "cell_type": "code",
   "execution_count": 12,
   "metadata": {},
   "outputs": [
    {
     "name": "stdout",
     "output_type": "stream",
     "text": [
      "==================== <class 'problems.P1_1_9'> ======================\n",
      "범위가 주어진 수의 합, 경계 포함\n",
      "question:\n",
      "187 에서 부터 584 까지의 수의 총합 이가 얼마인가\n",
      "187에서부터 584까지의 수의 총합이가 얼마인가\n",
      "values: (187, 584)\n",
      "answer: 153429\n",
      "---- equation ----\n",
      "sum = 0\n",
      "for i in range(187, 584 + 1):\n",
      "    sum += i\n",
      "print(sum)\n"
     ]
    }
   ],
   "source": [
    "verify(P1_1_9)"
   ]
  },
  {
   "cell_type": "code",
   "execution_count": 13,
   "metadata": {},
   "outputs": [
    {
     "name": "stdout",
     "output_type": "stream",
     "text": [
      "==================== <class 'problems.P1_1_10'> ======================\n",
      "범위가 주어진 수의 합, 오른쪽 경계 포함\n",
      "question:\n",
      "883 보다 크고 952 보다 작거나 같은 수의 총 합 이 구하시오\n",
      "883보다 크고 952보다 작거나 같은 수의 총합이 구하시오\n",
      "values: (883, 952)\n",
      "answer: 63342\n",
      "---- equation ----\n",
      "sum = 0\n",
      "for i in range(883 + 1, 952 + 1):\n",
      "    sum += i\n",
      "print(sum)\n"
     ]
    }
   ],
   "source": [
    "verify(P1_1_10)"
   ]
  },
  {
   "cell_type": "code",
   "execution_count": 14,
   "metadata": {},
   "outputs": [
    {
     "name": "stdout",
     "output_type": "stream",
     "text": [
      "==================== <class 'problems.P1_1_11'> ======================\n",
      "범위가 주어진 수의 합, 왼쪽 경계 포함\n",
      "question:\n",
      "195 에서 부터 742 보다 적은 수의 총 합 은 몇 일까요\n",
      "195에서부터 742보다 적은 수의 총합은 몇 일까요\n",
      "values: (195, 742)\n",
      "answer: 255996\n",
      "---- equation ----\n",
      "sum = 0\n",
      "for i in range(195, 742):\n",
      "    sum += i\n",
      "print(sum)\n"
     ]
    }
   ],
   "source": [
    "verify(P1_1_11)"
   ]
  },
  {
   "cell_type": "code",
   "execution_count": 15,
   "metadata": {},
   "outputs": [
    {
     "name": "stdout",
     "output_type": "stream",
     "text": [
      "==================== <class 'problems.P1_1_12'> ======================\n",
      "범위가 주어진 수의 합, 경계 불포함\n",
      "question:\n",
      "314 보다 많고 847 보다 작은 수의 총 합 이 몇 개 입니까\n",
      "314보다 많고 847보다 작은 수의 총합이 몇 개입니까\n",
      "values: (314, 847)\n",
      "answer: 308826\n",
      "---- equation ----\n",
      "sum = 0\n",
      "for i in range(314 + 1, 847):\n",
      "    sum += i\n",
      "print(sum)\n"
     ]
    }
   ],
   "source": [
    "verify(P1_1_12)"
   ]
  },
  {
   "cell_type": "code",
   "execution_count": 16,
   "metadata": {},
   "outputs": [
    {
     "name": "stdout",
     "output_type": "stream",
     "text": [
      "==================== <class 'problems.P1_2_1'> ======================\n",
      "컨테이너 안의 물건 개수 추가\n",
      "question:\n",
      "지갑 에 18 개 당구공 이 있을 때 남준 이가 12 개의 당구공 를 더 넣었습니다.넣을 때 속에 있는 당구공 이 다 해서 얼마개일까요\n",
      "지갑에 18개 당구공이 있을 때 남준이가 12개의 당구공를 더 넣었습니다. 넣을 때 속에 있는 당구공이 다 해서 얼마 개일까요\n",
      "values: (18, 12)\n",
      "answer: 30\n",
      "---- equation ----\n",
      "print(18 + 12)\n"
     ]
    }
   ],
   "source": [
    "verify(P1_2_1)"
   ]
  },
  {
   "cell_type": "code",
   "execution_count": 17,
   "metadata": {},
   "outputs": [
    {
     "name": "stdout",
     "output_type": "stream",
     "text": [
      "==================== <class 'problems.P1_2_2'> ======================\n",
      "컨테이너 안의 물건 개수 감소\n",
      "question:\n",
      "유리병 에 44 개 풀 은 있다 민영 이가 14 개의 풀 을 꺼내면 안에 있는 풀 이 다해서 얼마 개이냐\n",
      "유리병에 44개 풀은 있다 민영이가 14개의 풀을 꺼내면 안에 있는 풀이 다 해서 얼마 개이냐\n",
      "values: (44, 14)\n",
      "answer: 30\n",
      "---- equation ----\n",
      "print(44 - 14)\n"
     ]
    }
   ],
   "source": [
    "verify(P1_2_2)"
   ]
  },
  {
   "cell_type": "code",
   "execution_count": 18,
   "metadata": {},
   "outputs": [
    {
     "name": "stdout",
     "output_type": "stream",
     "text": [
      "==================== <class 'problems.P1_3_1'> ======================\n",
      "n개 컨테이너에 들어있는 물체 수\n",
      "question:\n",
      "한개의 병 안에는 골프공 이가 770 자루 담겨 있었다 491 개 병 에는 골프공 이 모두 더해서 몇자루입니까\n",
      "한 개의 병 안에는 골프공이가 770 자루 담겨 있었다 491개 병에는 골프공이 모두 더해서 몇 자루입니까\n",
      "values: (770, 491)\n",
      "answer: 378070\n",
      "---- equation ----\n",
      "x = 770\n",
      "y = 491\n",
      "print(x * y)\n"
     ]
    }
   ],
   "source": [
    "verify(P1_3_1)"
   ]
  },
  {
   "cell_type": "code",
   "execution_count": 19,
   "metadata": {},
   "outputs": [
    {
     "name": "stdout",
     "output_type": "stream",
     "text": [
      "==================== <class 'problems.P1_4_1'> ======================\n",
      "n 명을 제외한 평균\n",
      "question:\n",
      "윤기, 호석, 은지, 정국, 유정 이의 음악 점수 는 각각 198점, 199점, 14점, 40점, 193점 이에요 이들 다섯 를 빼고 학급의 점 이가 97 이며 학급의 평균 점 이 얼마 점인지 쓰시오\n",
      "윤기, 호석, 은지, 정국, 유정 이의 음악 점수는 각각 198점, 199점, 14점, 40점, 193점이에요 이들 다섯를 빼고 학급의 점이가 97이며 학급의 평균점이 얼마 점인지 쓰시오\n",
      "values: (5, [198, 199, 14, 40, 193], 97, 65)\n",
      "answer: 99.44615384615385\n",
      "---- equation ----\n",
      "N = 65\n",
      "n = 5\n",
      "scores = [198, 199, 14, 40, 193]\n",
      "mean = 97\n",
      "total = (N - n) * mean + sum(scores)\n",
      "new_mean = total / 65\n",
      "if new_mean / 1 == new_mean // 1:\n",
      "    print(int(new_mean))\n",
      "else:\n",
      "    print(new_mean)\n"
     ]
    }
   ],
   "source": [
    "verify(P1_4_1)"
   ]
  },
  {
   "cell_type": "code",
   "execution_count": 20,
   "metadata": {},
   "outputs": [
    {
     "name": "stdout",
     "output_type": "stream",
     "text": [
      "==================== <class 'problems.P2_1_1'> ======================\n",
      "줄에서 앞 뒤 순서\n",
      "question:\n",
      "86 사람 의 아이 가 한 줄로 줄을 섰습니다 윤기 앞 에는 51 사람 의 서 이라고 할 때 윤기 의 뒤 에는 서 있는 아이 는 얼마사람인지 답하시오\n",
      "86 사람의 아이가 한 줄로 줄을 섰습니다 윤기 앞에는 51 사람의 서이라고 할 때 윤기의 뒤에는 서 있는 아이는 얼마 사람인지 답하시오\n",
      "values: (86, 51)\n",
      "answer: 34\n",
      "---- equation ----\n",
      "print(86 - 51 - 1)\n"
     ]
    }
   ],
   "source": [
    "verify(P2_1_1)"
   ]
  },
  {
   "cell_type": "code",
   "execution_count": 21,
   "metadata": {},
   "outputs": [
    {
     "name": "stdout",
     "output_type": "stream",
     "text": [
      "==================== <class 'problems.P2_2_2'> ======================\n",
      "두사람 사이 등수\n",
      "question:\n",
      "배구 시합 에는 정국 이가 48 등을 했으며 유나 는 50 등 입니다 남준 이 유나보다 나았고 정국보다 못했습니다 남준 얼마등이냐\n",
      "배구 시합에는 정국이가 48등을 했으며 유나는 50등입니다 남준이 유나보다 나았고 정국보다 못했습니다 남준 얼마 등이냐\n",
      "values: (48, 50)\n",
      "answer: 49\n",
      "---- equation ----\n",
      "print(int((48 + 50) / 2))\n"
     ]
    }
   ],
   "source": [
    "verify(P2_2_2)"
   ]
  },
  {
   "cell_type": "code",
   "execution_count": 22,
   "metadata": {},
   "outputs": [
    {
     "name": "stdout",
     "output_type": "stream",
     "text": [
      "==================== <class 'problems.P2_3_1'> ======================\n",
      "줄 순서 거꾸로 바꾸기\n",
      "question:\n",
      "나이 가 큰, 많은 친구 부터 일렬로 81 명 은 서 있다 윤기 뒤 에 부터 46 번째 서 있고 나이 적은 친구 부터 한 줄로 줄을 서면 윤기 뒤 에는 얼마 번째인가요\n",
      "나이가 큰, 많은 친구부터 일렬로 81명은 서 있다 윤기 뒤에부터 46번째 서 있고 나이 적은 친구부터 한 줄로 줄을 서면 윤기 뒤에는 얼마 번째인가요\n",
      "values: (81, 46)\n",
      "answer: 36\n",
      "---- equation ----\n",
      "print(81 - 46 + 1)\n"
     ]
    }
   ],
   "source": [
    "verify(P2_3_1)"
   ]
  },
  {
   "cell_type": "code",
   "execution_count": 23,
   "metadata": {},
   "outputs": [
    {
     "name": "stdout",
     "output_type": "stream",
     "text": [
      "==================== <class 'problems.P3_1_1'> ======================\n",
      "n가지중 m가지 고르기\n",
      "question:\n",
      "테니스볼, 테이프, 침팬지, 까치, 딸기, 파인애플 중 1 가지를 고르는 방법은 다 합치면 몇가지인가요\n",
      "테니스볼, 테이프, 침팬지, 까치, 딸기, 파인애플 중 1가지를 고르는 방법은 다 합치면 몇 가지인가요\n",
      "values: (6, 1)\n",
      "answer: 6\n",
      "---- equation ----\n",
      "n = 6\n",
      "m = 1\n",
      "count = 1\n",
      "for i in range(m):\n",
      "    count *= (n - i) / (i + 1)\n",
      "print(int(count))\n"
     ]
    }
   ],
   "source": [
    "verify(P3_1_1)"
   ]
  },
  {
   "cell_type": "code",
   "execution_count": 24,
   "metadata": {},
   "outputs": [
    {
     "name": "stdout",
     "output_type": "stream",
     "text": [
      "==================== <class 'problems.P3_2_1'> ======================\n",
      "n개를 m명에게 나누어 주기\n",
      "question:\n",
      "버섯 12 개를 다른 2 마리의 코끼리 한테 나누려고 합니다 버섯 를 나누는 경우의 수는 전부 몇가지있습니까\n",
      "버섯 12개를 다른 2 마리의 코끼리한테 나누려고 합니다 버섯를 나누는 경우의 수는 전부 몇 가지 있습니까\n",
      "values: (12, 2)\n",
      "answer: 13\n",
      "---- equation ----\n",
      "n1 = 12\n",
      "n2 = 2\n",
      "n = n1\n",
      "count_n = 1\n",
      "for i in range(1, n + n2):\n",
      "    count_n *= i\n",
      "count_d1 = 1\n",
      "for i in range(1, n2):\n",
      "    count_d1 *= i\n",
      "count_d2 = 1\n",
      "for i in range(1, n + 1):\n",
      "    count_d2 *= i\n",
      "count = count_n / (count_d1 * count_d2)\n",
      "print(int(count))\n"
     ]
    }
   ],
   "source": [
    "verify(P3_2_1)"
   ]
  },
  {
   "cell_type": "code",
   "execution_count": 25,
   "metadata": {},
   "outputs": [
    {
     "name": "stdout",
     "output_type": "stream",
     "text": [
      "==================== <class 'problems.P3_2_2'> ======================\n",
      "n개를 m명에게 1개 이상 나누어 주기\n",
      "question:\n",
      "배추 28 개를 다른 4 마리의 사자 에게 나누어 주려 합니다 사자 는 적어도 배추 3 개를 받게 됩니다 배추 이를 나누어 경우의 수는 더해서 얼마 가지인가\n",
      "배추 28개를 다른 4 마리의 사자에게 나누어 주려 합니다 사자는 적어도 배추 3개를 받게 됩니다 배추 이를 나누어 경우의 수는 더해서 얼마 가지인가\n",
      "values: (28, 4, 3)\n",
      "answer: 969\n",
      "---- equation ----\n",
      "n1 = 28\n",
      "n2 = 4\n",
      "n3 = 3\n",
      "n = n1 - (n2 * n3)\n",
      "count_n = 1\n",
      "for i in range(1, n + n2):\n",
      "    count_n *= i\n",
      "count_d1 = 1\n",
      "for i in range(1, n2):\n",
      "    count_d1 *= i\n",
      "count_d2 = 1\n",
      "for i in range(1, n + 1):\n",
      "    count_d2 *= i\n",
      "count = count_n / (count_d1 * count_d2)\n",
      "print(int(count))\n"
     ]
    }
   ],
   "source": [
    "verify(P3_2_2)"
   ]
  },
  {
   "cell_type": "code",
   "execution_count": 26,
   "metadata": {},
   "outputs": [
    {
     "name": "stdout",
     "output_type": "stream",
     "text": [
      "==================== <class 'problems.P3_3_1'> ======================\n",
      "n개의 숫자 한번씩만 사용하여 만들 수 있는 n자리 (m으로 확장 가능) 숫자\n",
      "question:\n",
      "5 개의 수 6, 2, 7, 0, 9 를 한 번씩만 써서 다섯 자리 숫자 를 만들 때 다섯자리 수는 모두 더해서 얼마 개인가\n",
      "5개의 수 6, 2, 7, 0, 9를 한 번씩만 써서 다섯 자리 숫자를 만들 때 다섯 자리 수는 모두 더해서 얼마 개인가\n",
      "values: [[6, 2, 7, 0, 9]]\n",
      "answer: 96\n",
      "---- equation ----\n",
      "numbers = [6, 2, 7, 0, 9]\n",
      "n = len(numbers)\n",
      "count = 1\n",
      "if 0 in numbers:\n",
      "    for i in range(n):\n",
      "        if i == 0:\n",
      "            count *= n - 1\n",
      "        else:\n",
      "            count *= n - i\n",
      "else:\n",
      "    for i in range(n):\n",
      "        count *= n - i\n",
      "print(count)\n"
     ]
    }
   ],
   "source": [
    "verify(P3_3_1)"
   ]
  },
  {
   "cell_type": "code",
   "execution_count": 27,
   "metadata": {},
   "outputs": [
    {
     "name": "stdout",
     "output_type": "stream",
     "text": [
      "==================== <class 'problems.P4_1_1'> ======================\n",
      "n개의 숫자 중 가장 큰 수와 가장 작은 수의 차이\n",
      "question:\n",
      "13 개 수 936, 857, 338, 270, 947, 953, 259, 540, 435, 807, 823, 621, 105 가 있었다 그 중에 가장 작은 수와 가장 큰 수 차 가 얼마인가요\n",
      "13개수 936, 857, 338, 270, 947, 953, 259, 540, 435, 807, 823, 621, 105가 있었다 그 중에 가장 작은 수와 가장 큰 수 차가 얼마인가요\n",
      "values: [[936, 857, 338, 270, 947, 953, 259, 540, 435, 807, 823, 621, 105]]\n",
      "answer: 848\n",
      "---- equation ----\n",
      "numbers = [936, 857, 338, 270, 947, 953, 259, 540, 435, 807, 823, 621, 105]\n",
      "print(max(numbers) - min(numbers))\n"
     ]
    }
   ],
   "source": [
    "verify(P4_1_1)"
   ]
  },
  {
   "cell_type": "code",
   "execution_count": 28,
   "metadata": {},
   "outputs": [
    {
     "name": "stdout",
     "output_type": "stream",
     "text": [
      "==================== <class 'problems.P4_2_1'> ======================\n",
      "소수점 오른쪽 이동\n",
      "question:\n",
      "어떤 소수의 소수점을 오른쪽으로 영 자리 움직이면 원래 수보다 48.71 만큼 커진다 원래의 숫자 를 무엇인지 쓰시오\n",
      "어떤 소수의 소수점을 오른쪽으로 영자리 움직이면 원래 수보다 48.71만큼 커진다 원래의 숫자를 무엇인지 쓰시오\n",
      "values: (1, 48.71)\n",
      "answer: 5.41\n",
      "---- equation ----\n",
      "n = 1\n",
      "delta = 48.71\n",
      "original = delta / (10**n - 1)\n",
      "print('%.2f'%original)\n"
     ]
    }
   ],
   "source": [
    "verify(P4_2_1)"
   ]
  },
  {
   "cell_type": "code",
   "execution_count": 29,
   "metadata": {},
   "outputs": [
    {
     "name": "stdout",
     "output_type": "stream",
     "text": [
      "==================== <class 'problems.P4_2_2'> ======================\n",
      "소수점 왼쪽 이동\n",
      "question:\n",
      "어떤 숫자의 소수점을 왼쪽으로 한 자리 만큼 이동하면 원래보다 4.19 만큼 작을 때 원래의 수 이를 무엇인지 답하시오\n",
      "어떤 숫자의 소수점을 왼쪽으로 한 자리만큼 이동하면 원래보다 4.19만큼 작을 때 원래의 수이를 무엇인지 답하시오\n",
      "values: (2, 4.19)\n",
      "answer: 4.23\n",
      "---- equation ----\n",
      "n = 2\n",
      "delta = 4.19\n",
      "original = delta / (1 - 10**(-n))\n",
      "original = (original * 100 // 1) / 100\n",
      "print(original)\n"
     ]
    }
   ],
   "source": [
    "verify(P4_2_2)"
   ]
  },
  {
   "cell_type": "code",
   "execution_count": 30,
   "metadata": {},
   "outputs": [
    {
     "name": "stdout",
     "output_type": "stream",
     "text": [
      "==================== <class 'problems.P4_3_1'> ======================\n",
      "n개의 수로 나누어지는 k 자리 수\n",
      "question:\n",
      "2 개 수 4, 3 로 나누어 떨어지는 영 자리 숫자 가 모두 몇 개있습니까\n",
      "2개수 4, 3로 나누어 떨어지는 영자리 숫자가 모두 몇 개 있습니까\n",
      "values: ([4, 3], 1)\n",
      "answer: 0\n",
      "---- equation ----\n",
      "numbers = [4, 3]\n",
      "k = 1\n",
      "ceil = 10**k\n",
      "floor = 10**(k-1)\n",
      "count = 0\n",
      "for i in range(floor, ceil):\n",
      "    divided = True\n",
      "    for d in numbers:\n",
      "        if i % d != 0:\n",
      "            divided = False\n",
      "    if divided:\n",
      "        count += 1\n",
      "print(count)\n"
     ]
    }
   ],
   "source": [
    "verify(P4_3_1)"
   ]
  },
  {
   "cell_type": "code",
   "execution_count": 31,
   "metadata": {},
   "outputs": [
    {
     "name": "stdout",
     "output_type": "stream",
     "text": [
      "==================== <class 'problems.P5_1_1'> ======================\n",
      "두자리 수의 덧셈식\n",
      "question:\n",
      "두 자리 수의 덧셈식 C4+1I=13 와 같이 주어질 때 C 에 알맞은 숫자는 몇인가\n",
      "두 자리 수의 덧셈식 C4+1I=13와 같이 주어질 때 C에 알맞은 숫자는 몇인가\n",
      "values: (4, 1, 13)\n",
      "answer: -1\n",
      "---- equation ----\n",
      "n1 = 4\n",
      "n2 = 1\n",
      "n3 = 13\n",
      "if n3 % 10 >= n1:\n",
      "    A  = int(n3 // 10) - n2\n",
      "else:\n",
      "    A  = int(n3 // 10) - n2 - 1\n",
      "print(A)\n"
     ]
    }
   ],
   "source": [
    "verify(P5_1_1)"
   ]
  },
  {
   "cell_type": "code",
   "execution_count": 32,
   "metadata": {},
   "outputs": [
    {
     "name": "stdout",
     "output_type": "stream",
     "text": [
      "==================== <class 'problems.P5_2_1'> ======================\n",
      "몫과 나머지가같을때 나누는 수중 큰 수\n",
      "question:\n",
      "W 를 6 로 나누었더니 몫은 N 이에요 나머지는 M 가 되었다 W, N, M 가 자연수 이며 이 식에서 몫과 나머지가 똑 같다 나뉘는 숫자 W 가장 큰 숫자 무엇이냐\n",
      "W를 6로 나누었더니 몫은 N이에요 나머지는 M가 되었다 W, N, M가 자연수이며 이 식에서 몫과 나머지가 똑같다 나뉘는 숫자 W 가장 큰 숫자 무엇이냐\n",
      "values: [6]\n",
      "answer: 35\n",
      "---- equation ----\n",
      "n = 6\n",
      "print((n + 1) * (n - 1))\n"
     ]
    }
   ],
   "source": [
    "verify(P5_2_1)"
   ]
  },
  {
   "cell_type": "code",
   "execution_count": 33,
   "metadata": {},
   "outputs": [
    {
     "name": "stdout",
     "output_type": "stream",
     "text": [
      "==================== <class 'problems.P5_3_1'> ======================\n",
      "두 자연수의 연립 방정식\n",
      "question:\n",
      "서로 다른 두 자연수 Q, A 가 있었어요 Q+A=80 Q=A+A+A+A 일 때 Q 을 무엇인가\n",
      "서로 다른 두 자연수 Q, A가 있었어요 Q+A=80 Q=A+A+A+A일 때 Q을 무엇인가\n",
      "values: [80]\n",
      "answer: 64\n",
      "---- equation ----\n",
      "n = 80\n",
      "print(4 * int(n / 5))\n"
     ]
    }
   ],
   "source": [
    "verify(P5_3_1)"
   ]
  },
  {
   "cell_type": "code",
   "execution_count": 34,
   "metadata": {},
   "outputs": [
    {
     "name": "stdout",
     "output_type": "stream",
     "text": [
      "==================== <class 'problems.P6_1_1'> ======================\n",
      "잘 못 뺀 계산\n",
      "question:\n",
      "어떤 숫자 에서 70 이를 빼야 하는데 실수로 46 를 뺀 결과 83 는 되었다 바르게 계산한 결과는 얼마입니까\n",
      "어떤 숫자에서 70이를 빼야 하는데 실수로 46를 뺀 결과 83는 되었다 바르게 계산한 결과는 얼마입니까\n",
      "values: (70, 46, 83)\n",
      "answer: 59\n",
      "---- equation ----\n",
      "n1 = 70\n",
      "n2 = 46\n",
      "n3 = 83\n",
      "n = n3 + n2\n",
      "print(n - n1)\n"
     ]
    }
   ],
   "source": [
    "verify(P6_1_1)"
   ]
  },
  {
   "cell_type": "code",
   "execution_count": 35,
   "metadata": {},
   "outputs": [
    {
     "name": "stdout",
     "output_type": "stream",
     "text": [
      "==================== <class 'problems.P6_3_1'> ======================\n",
      "뺄셈 계산 수정\n",
      "question:\n",
      "어떤 숫자 에서 89 을 뺐더니 86 는 이다 어떤 숫자 에서 76 이를 뺀다면 결과를 무엇인가\n",
      "어떤 숫자에서 89을 뺐더니 86는이다 어떤 숫자에서 76이를 뺀다면 결과를 무엇인가\n",
      "values: (89, 86, 76)\n",
      "answer: 99\n",
      "---- equation ----\n",
      "n1 = 89\n",
      "n2 = 86\n",
      "n3 = 76\n",
      "n = n1 + n2\n",
      "print(n - n3)\n"
     ]
    }
   ],
   "source": [
    "verify(P6_3_1)"
   ]
  },
  {
   "cell_type": "code",
   "execution_count": 36,
   "metadata": {},
   "outputs": [
    {
     "name": "stdout",
     "output_type": "stream",
     "text": [
      "==================== <class 'problems.P6_4_1'> ======================\n",
      "잘못 계산한 곱셈\n",
      "question:\n",
      "32 에 어떤 수 이를 곱해야 하지만 잘못하여 9 에 어떤 수를 곱하니 70 는 이다 올바로 구한 결과를 얼마인가\n",
      "32에 어떤 수 이를 곱해야 하지만 잘못하여 9에 어떤 수를 곱하니 70는이다 올바로 구한 결과를 얼마인가\n",
      "values: (32, 9, 70)\n",
      "answer: 248\n",
      "---- equation ----\n",
      "n1 = 32\n",
      "n2 = 9\n",
      "n3 = 70\n",
      "n = n3 / n2\n",
      "print(int(n * n1))\n"
     ]
    }
   ],
   "source": [
    "verify(P6_4_1)"
   ]
  },
  {
   "cell_type": "code",
   "execution_count": 37,
   "metadata": {
    "scrolled": false
   },
   "outputs": [
    {
     "name": "stdout",
     "output_type": "stream",
     "text": [
      "==================== <class 'problems.P7_1_1'> ======================\n",
      "수열에서 n번째와 m번째 숫자의 차\n",
      "question:\n",
      "6, 23, 58, 135, 278, 511, 858, 1343, 1990, 2823 와 같은 규칙을 따를 때 35 번째 오는 숫자 44 번째 오는 수 를 각각 Y 와 S 이며 Y-S 는 몇 인지 구하시오\n",
      "6, 23, 58, 135, 278, 511, 858, 1343, 1990, 2823와 같은 규칙을 따를 때 35번째 오는 숫자 44번째 오는 수를 각각 Y와 S이며 Y-S는 몇 인지 구하시오\n",
      "values: ([6, 23, 58, 135, 278, 511, 858, 1343, 1990, 2823], 35, 44)\n",
      "answer: 158877\n",
      "---- equation ----\n",
      "series = [6, 23, 58, 135, 278, 511, 858, 1343, 1990, 2823]\n",
      "n1 = 35\n",
      "n2 = 44\n",
      "N = len(series)\n",
      "series0 = []\n",
      "for i in range(N - 1):\n",
      "    series0.append(series[i+1] - series[i])\n",
      "N = len(series0)\n",
      "series1 = []\n",
      "for i in range(N - 1):\n",
      "    series1.append(series0[i+1] - series0[i])\n",
      "N = len(series1)\n",
      "series2 = []\n",
      "for i in range(N - 1):\n",
      "    series2.append(series1[i+1] - series1[i])\n",
      "if max(series0) == min(series0):\n",
      "    order = 0\n",
      "elif max(series1) == min(series1):\n",
      "    order = 1\n",
      "elif max(series2) == min(series2):\n",
      "    order = 2\n",
      "else:\n",
      "    order = None    \n",
      "n = max(n1, n2)    \n",
      "if order == 0:\n",
      "    _series0 = [series0[0]] * n\n",
      "    _series = [series[0]]\n",
      "    for i in range(n):\n",
      "        _series.append(_series[-1] + _series0[i])\n",
      "if order == 1:\n",
      "    _series1 = [series1[0]] * n\n",
      "    _series0 = [series0[0]]\n",
      "    for i in range(n):\n",
      "        _series0.append(_series0[-1] + _series1[i])\n",
      "    _series = [series[0]]\n",
      "    for i in range(n+1):\n",
      "        _series.append(_series[-1] + _series0[i])\n",
      "if order == 2:\n",
      "    _series2 = [series2[0]] * n\n",
      "    _series1 = [series1[0]]\n",
      "    for i in range(n):\n",
      "        _series1.append(_series1[-1] + _series2[i])\n",
      "    _series0 = [series0[0]]\n",
      "    for i in range(n+1):\n",
      "        _series0.append(_series0[-1] + _series1[i])\n",
      "    _series = [series[0]]\n",
      "    for i in range(n+2):\n",
      "        _series.append(_series[-1] + _series0[i])\n",
      "print(_series[n2 - 1] - _series[n1 - 1])\n"
     ]
    }
   ],
   "source": [
    "verify(P7_1_1)"
   ]
  },
  {
   "cell_type": "code",
   "execution_count": 38,
   "metadata": {},
   "outputs": [
    {
     "name": "stdout",
     "output_type": "stream",
     "text": [
      "==================== <class 'problems.P7_1_2'> ======================\n",
      "수열에서 n번째와 m번째 숫자의 합\n",
      "question:\n",
      "어떤 수열 12, 20, 30, 53, 100, 182, 310, 495, 748, 1080 같은 규칙에서 44 번째 놓인 수 85 번째 놓일 숫자 이를 각각 X 과 G 라 할 때 X+G 얼마인가\n",
      "어떤 수열 12, 20, 30, 53, 100, 182, 310, 495, 748, 1080 같은 규칙에서 44번째 놓인 수 85번째 놓일 숫자 이를 각각 X과 G라 할 때 X+G 얼마인가\n",
      "values: ([12, 20, 30, 53, 100, 182, 310, 495, 748, 1080], 44, 85)\n",
      "answer: 1193693\n",
      "---- equation ----\n",
      "series = [12, 20, 30, 53, 100, 182, 310, 495, 748, 1080]\n",
      "n1 = 44\n",
      "n2 = 85\n",
      "N = len(series)\n",
      "series0 = []\n",
      "for i in range(N - 1):\n",
      "    series0.append(series[i+1] - series[i])\n",
      "N = len(series0)\n",
      "series1 = []\n",
      "for i in range(N - 1):\n",
      "    series1.append(series0[i+1] - series0[i])\n",
      "N = len(series1)\n",
      "series2 = []\n",
      "for i in range(N - 1):\n",
      "    series2.append(series1[i+1] - series1[i])\n",
      "if max(series0) == min(series0):\n",
      "    order = 0\n",
      "elif max(series1) == min(series1):\n",
      "    order = 1\n",
      "elif max(series2) == min(series2):\n",
      "    order = 2\n",
      "else:\n",
      "    order = None\n",
      "    \n",
      "n = max(n1, n2)    \n",
      "if order == 0:\n",
      "    _series0 = [series0[0]] * n\n",
      "    _series = [series[0]]\n",
      "    for i in range(n):\n",
      "        _series.append(_series[-1] + _series0[i])\n",
      "if order == 1:\n",
      "    _series1 = [series1[0]] * n\n",
      "    _series0 = [series0[0]]\n",
      "    for i in range(n):\n",
      "        _series0.append(_series0[-1] + _series1[i])\n",
      "    _series = [series[0]]\n",
      "    for i in range(n+1):\n",
      "        _series.append(_series[-1] + _series0[i])\n",
      "if order == 2:\n",
      "    _series2 = [series2[0]] * n\n",
      "    _series1 = [series1[0]]\n",
      "    for i in range(n):\n",
      "        _series1.append(_series1[-1] + _series2[i])\n",
      "    _series0 = [series0[0]]\n",
      "    for i in range(n+1):\n",
      "        _series0.append(_series0[-1] + _series1[i])\n",
      "    _series = [series[0]]\n",
      "    for i in range(n+2):\n",
      "        _series.append(_series[-1] + _series0[i])\n",
      "print(_series[n2 - 1] + _series[n1 - 1])\n"
     ]
    }
   ],
   "source": [
    "verify(P7_1_2)"
   ]
  },
  {
   "cell_type": "code",
   "execution_count": 39,
   "metadata": {},
   "outputs": [
    {
     "name": "stdout",
     "output_type": "stream",
     "text": [
      "==================== <class 'problems.P7_3_1'> ======================\n",
      "수열의 n번째 항\n",
      "question:\n",
      "어떤 수열 15, 32, 57, 90, 131, 180, 237 과 같은 규칙이 있을 때 수 이를 배열하고 있다면 7 번째 수는 무엇있습니까\n",
      "어떤 수열 15, 32, 57, 90, 131, 180, 237과 같은 규칙이 있을 때 수이를 배열하고 있다면 7번째 수는 무엇 있습니까\n",
      "values: ([15, 32, 57, 90, 131, 180, 237], 7)\n",
      "answer: 237\n",
      "---- equation ----\n",
      "series = [15, 32, 57, 90, 131, 180, 237]\n",
      "n = 7\n",
      "N = len(series)\n",
      "series0 = []\n",
      "for i in range(N - 1):\n",
      "    series0.append(series[i+1] - series[i])\n",
      "N = len(series0)\n",
      "series1 = []\n",
      "for i in range(N - 1):\n",
      "    series1.append(series0[i+1] - series0[i])\n",
      "N = len(series1)\n",
      "series2 = []\n",
      "for i in range(N - 1):\n",
      "    series2.append(series1[i+1] - series1[i])\n",
      "if max(series0) == min(series0):\n",
      "    order = 0\n",
      "elif max(series1) == min(series1):\n",
      "    order = 1\n",
      "elif max(series2) == min(series2):\n",
      "    order = 2\n",
      "else:\n",
      "    order = None\n",
      "    \n",
      "if order == 0:\n",
      "    _series0 = [series0[0]] * n\n",
      "    _series = [series[0]]\n",
      "    for i in range(n):\n",
      "        _series.append(_series[-1] + _series0[i])\n",
      "if order == 1:\n",
      "    _series1 = [series1[0]] * n\n",
      "    _series0 = [series0[0]]\n",
      "    for i in range(n):\n",
      "        _series0.append(_series0[-1] + _series1[i])\n",
      "    _series = [series[0]]\n",
      "    for i in range(n+1):\n",
      "        _series.append(_series[-1] + _series0[i])\n",
      "if order == 2:\n",
      "    _series2 = [series2[0]] * n\n",
      "    _series1 = [series1[0]]\n",
      "    for i in range(n):\n",
      "        _series1.append(_series1[-1] + _series2[i])\n",
      "    _series0 = [series0[0]]\n",
      "    for i in range(n+1):\n",
      "        _series0.append(_series0[-1] + _series1[i])\n",
      "    _series = [series[0]]\n",
      "    for i in range(n+2):\n",
      "        _series.append(_series[-1] + _series0[i])\n",
      "print(_series[n - 1])\n"
     ]
    }
   ],
   "source": [
    "verify(P7_3_1)"
   ]
  },
  {
   "cell_type": "code",
   "execution_count": 40,
   "metadata": {},
   "outputs": [
    {
     "name": "stdout",
     "output_type": "stream",
     "text": [
      "==================== <class 'problems.P8_1_1'> ======================\n",
      "반복되는 수열의 n번째 항\n",
      "question:\n",
      "4, 8, 7, 3, 1, 4 와 같이 반복되는 수열이 있으며 처음에서 56 번째 수 가 무엇일까요\n",
      "4, 8, 7, 3, 1, 4와 같이 반복되는 수열이 있으며 처음에서 56번째 수가 무엇일까요\n",
      "values: ([4, 8, 7, 3, 1, 4], 56)\n",
      "answer: 4\n",
      "---- equation ----\n",
      "series = [4, 8, 7, 3, 1, 4]\n",
      "k = 56\n",
      "N = len(series)\n",
      "if k <= N:\n",
      "    print(series[k-1])\n",
      "else:\n",
      "    for n in range(1, N + 1):\n",
      "        repeat = int(N // n)\n",
      "        rest = N % n\n",
      "        reseries = series[:n] * repeat + series[:rest]\n",
      "        if series == reseries:\n",
      "            j = k % n\n",
      "            break\n",
      "    print(series[j-1])\n"
     ]
    }
   ],
   "source": [
    "verify(P8_1_1)"
   ]
  },
  {
   "cell_type": "code",
   "execution_count": 41,
   "metadata": {},
   "outputs": [
    {
     "name": "stdout",
     "output_type": "stream",
     "text": [
      "==================== <class 'problems.P8_2_1'> ======================\n",
      "반복되는 3가지 물체의 n번째 색깔\n",
      "question:\n",
      "왼쪽에서부터 오렌지색 공 1 개 녹색 공 4 개 검정색 공 2 개 는 반복하여 놓여 있어요 43 번째 공 의 색깔 은 무엇일까요\n",
      "왼쪽에서부터 오렌지색 공 1개 녹색 공 4개 검정색 공 2개는 반복하여 놓여 있어요 43번째 공의 색깔은 무엇일까요\n",
      "values: (['오렌지색', '녹색', '검정색'], 1, 4, 2, 43)\n",
      "answer: 오렌지색\n",
      "---- equation ----\n",
      "colors = ['오렌지색', '녹색', '검정색']\n",
      "n1 = 1\n",
      "n2 = 4\n",
      "n3 = 2\n",
      "k = 43\n",
      "N = n1 + n2 + n3\n",
      "c1, c2, c3 = colors\n",
      "series = [c1] * n1 + [c2] * n2 + [c3] * n3\n",
      "if k <= N:\n",
      "    print(series[k-1])\n",
      "else:\n",
      "    for n in range(1, N + 1):\n",
      "        repeat = int(N // n)\n",
      "        rest = N % n\n",
      "        reseries = series[:n] * repeat + series[:rest]\n",
      "        if series == reseries:\n",
      "            j = k % n\n",
      "            break\n",
      "    print(series[j-1])\n"
     ]
    }
   ],
   "source": [
    "verify(P8_2_1)"
   ]
  },
  {
   "cell_type": "code",
   "execution_count": 42,
   "metadata": {},
   "outputs": [
    {
     "name": "stdout",
     "output_type": "stream",
     "text": [
      "==================== <class 'problems.P8_3_1'> ======================\n",
      "k개의 물건을 m에게 n개씩 순서대로 나누어 주기\n",
      "question:\n",
      "917개의 고양이 이를 남준, 윤기, 태형, 유정, 호석, 민영, 유나, 지민, 은지 9명에게 한테 한 줄로 6 개 씩 나누어주다 917 번째 고양이 을 받는 사람은 누구일까\n",
      "917개의 고양이 이를 남준, 윤기, 태형, 유정, 호석, 민영, 유나, 지민, 은지 9명에게 한테 한 줄로 6개씩 나누어 주다 917번째 고양이을 받는 사람은 누구일까\n",
      "values: (['남준', '윤기', '태형', '유정', '호석', '민영', '유나', '지민', '은지'], 917, 6)\n",
      "answer: 은지\n",
      "---- equation ----\n",
      "people = ['남준', '윤기', '태형', '유정', '호석', '민영', '유나', '지민', '은지']\n",
      "k = 917\n",
      "n = 6\n",
      "N = n * len(people)\n",
      "series = []\n",
      "for i, p in enumerate(people):\n",
      "    series += n * [p]\n",
      "if k <= N:\n",
      "    print(series[k-1])\n",
      "else:\n",
      "    for n in range(1, N + 1):\n",
      "        repeat = int(N // n)\n",
      "        rest = N % n\n",
      "        reseries = series[:n] * repeat + series[:rest]\n",
      "        if series == reseries:\n",
      "            j = k % n\n",
      "            break\n",
      "    print(series[j-1])\n"
     ]
    }
   ],
   "source": [
    "verify(P8_3_1)"
   ]
  },
  {
   "cell_type": "code",
   "execution_count": 43,
   "metadata": {},
   "outputs": [
    {
     "name": "stdout",
     "output_type": "stream",
     "text": [
      "==================== <class 'problems.P9_1_1'> ======================\n",
      "수의 합의 크기 비교\n",
      "question:\n",
      "유정 이가 68 과 68 이를 모았다고 하고 지민 이 45 와 44 를 모았다고 하면 누가 모은 수가 더 큽니까\n",
      "유정이가 68과 68 이를 모았다고 하고 지민이 45와 44를 모았다고 하면 누가 모은 수가 더 큽니까\n",
      "values: ('유정', '지민', [68, 68, 45, 44])\n",
      "answer: 유정\n",
      "---- equation ----\n",
      "numbers = [68, 68, 45, 44]\n",
      "p1 = '유정'\n",
      "p2 = '지민'\n",
      "n1, n2, n3, n4 = numbers\n",
      "if n1 + n2 >= n3 + n4:\n",
      "    print(p1)\n",
      "else:\n",
      "    print(p2)\n"
     ]
    }
   ],
   "source": [
    "verify(P9_1_1)"
   ]
  },
  {
   "cell_type": "code",
   "execution_count": 44,
   "metadata": {},
   "outputs": [
    {
     "name": "stdout",
     "output_type": "stream",
     "text": [
      "==================== <class 'problems.P9_2_1'> ======================\n",
      "4개의 크기 순서 비교\n",
      "question:\n",
      "(가), (아), (사), (나) 아이 가 있고 (아) 아이 가 (나) 아이 보다 크다 (가) 아이 가 (나) 아이 보다 작고 (아) 아이 는 (사) 아이 보다 작다고 할 때 가장 작은 아이 무엇인지 답하시오\n",
      "(가), (아), (사), (나) 아이가 있고 (아) 아이가 (나) 아이보다 크다 (가) 아이가 (나) 아이보다 작고 (아) 아이는 (사) 아이보다 작다고 할 때 가장 작은 아이 무엇인지 답하시오\n",
      "values: [['(가)', '(아)', '(사)', '(나)']]\n",
      "answer: (가)\n",
      "---- equation ----\n",
      "names = ['(가)', '(아)', '(사)', '(나)']\n",
      "n1, n2, n3, n4 = names\n",
      "print(n1)\n"
     ]
    }
   ],
   "source": [
    "verify(P9_2_1)"
   ]
  },
  {
   "cell_type": "code",
   "execution_count": 45,
   "metadata": {},
   "outputs": [
    {
     "name": "stdout",
     "output_type": "stream",
     "text": [
      "==================== <class 'problems.P9_2_2'> ======================\n",
      "4개의 크기 순서 비교\n",
      "question:\n",
      "민영, 정국, 태형, 은지 사람 이 있는 데 정국 사람 이 은지 사람 보다 크다 민영 사람 이가 은지 사람 보다 작다 정국 사람 이가 태형 사람 보다 작다 가장 큰 사람 무엇인가\n",
      "민영, 정국, 태형, 은지 사람이 있는데 정국 사람이 은지 사람보다 크다 민영 사람이가 은지 사람보다 작다 정국 사람이가 태형 사람보다 작다 가장 큰 사람 무엇인가\n",
      "values: [['민영', '정국', '태형', '은지']]\n",
      "answer: 태형\n",
      "---- equation ----\n",
      "names = ['민영', '정국', '태형', '은지']\n",
      "n1, n2, n3, n4 = names\n",
      "print(n3)\n"
     ]
    }
   ],
   "source": [
    "verify(P9_2_2)"
   ]
  },
  {
   "cell_type": "code",
   "execution_count": 46,
   "metadata": {},
   "outputs": [
    {
     "name": "stdout",
     "output_type": "stream",
     "text": [
      "==================== <class 'problems.P9_3_1'> ======================\n",
      "숫자들 중 특정 값보다 큰 수들의 개수\n",
      "question:\n",
      "9개의 수 24/30, 7/46, 0.6, 31/71, 0.3, 38/81, 0.5, 0.29, 0.4 가 있을 때 그 중에 0.53 보다 큰 수는 몇 개인지 구하시오\n",
      "9개의 수 24/30, 7/46, 0.6, 31/71, 0.3, 38/81, 0.5, 0.29, 0.4가 있을 때 그 중에 0.53보다 큰 수는 몇 개인지 구하시오\n",
      "values: ([0.813843964993861, 0.1557064466445065, 0.5986117950918317, 0.4433794920392775, 0.2951882444511845, 0.47957744996554263, 0.5319287330950284, 0.2908266806402674, 0.3743222153296081], 0.5323211095181173)\n",
      "answer: 2\n",
      "---- equation ----\n",
      "numbers = [0.813843964993861, 0.1557064466445065, 0.5986117950918317, 0.4433794920392775, 0.2951882444511845, 0.47957744996554263, 0.5319287330950284, 0.2908266806402674, 0.3743222153296081]\n",
      "th = 0.5323211095181173\n",
      "count = 0\n",
      "for n in numbers:\n",
      "    if n > th:\n",
      "        count += 1\n",
      "print(count)\n"
     ]
    }
   ],
   "source": [
    "verify(P9_3_1)"
   ]
  },
  {
   "cell_type": "code",
   "execution_count": 47,
   "metadata": {},
   "outputs": [
    {
     "name": "stdout",
     "output_type": "stream",
     "text": [
      "==================== <class 'problems.P9_3_2'> ======================\n",
      "숫자들 중 특정 값보다 작은 수들의 개수\n",
      "question:\n",
      "어떤 수 0.30, 4/79, 0.30, 0.44, 11/12, 0.2, 1.0, 45/71, 12/14 는 있으며 이 중에서 0.47 보다 작은 수는 얼마개있습니까\n",
      "어떤 수 0.30, 4/79, 0.30, 0.44, 11/12, 0.2, 1.0,45/71, 12/14는 있으며 이 중에서 0.47보다 작은 수는 얼마 개있습니까\n",
      "values: ([0.3037850237930494, 0.055910104927937354, 0.2987827863367908, 0.44016573895413935, 0.9274482794179338, 0.18399287306196577, 0.9752122273945143, 0.6367533654688352, 0.915946735369478], 0.4751657631860742)\n",
      "answer: 5\n",
      "---- equation ----\n",
      "numbers = [0.3037850237930494, 0.055910104927937354, 0.2987827863367908, 0.44016573895413935, 0.9274482794179338, 0.18399287306196577, 0.9752122273945143, 0.6367533654688352, 0.915946735369478]\n",
      "th = 0.4751657631860742\n",
      "count = 0\n",
      "for n in numbers:\n",
      "    if n < th:\n",
      "        count += 1\n",
      "print(count)\n"
     ]
    }
   ],
   "source": [
    "verify(P9_3_2)"
   ]
  },
  {
   "cell_type": "code",
   "execution_count": null,
   "metadata": {},
   "outputs": [],
   "source": []
  },
  {
   "cell_type": "code",
   "execution_count": null,
   "metadata": {},
   "outputs": [],
   "source": []
  },
  {
   "cell_type": "code",
   "execution_count": 48,
   "metadata": {},
   "outputs": [],
   "source": [
    "a = f'''\n",
    "b = [1,2,3]\n",
    "print(b)\n",
    "'''"
   ]
  },
  {
   "cell_type": "code",
   "execution_count": 49,
   "metadata": {},
   "outputs": [
    {
     "name": "stdout",
     "output_type": "stream",
     "text": [
      "[1, 2, 3]\n"
     ]
    }
   ],
   "source": [
    "\n",
    "exec(a)"
   ]
  },
  {
   "cell_type": "code",
   "execution_count": 50,
   "metadata": {},
   "outputs": [],
   "source": [
    "series = [1, 2, 3]\n",
    "n1 = 10\n",
    "n2 = 30\n",
    "code = f'''\n",
    "series = {series}\n",
    "n1 = {n1}\n",
    "n2 = {n2}\n",
    "series0 = [series[i+1] - series[i] for i in range(len(series) - 1)]\n",
    "series1 = [series0[i+1] - series0[i] for i in range(len(series0) - 1)]\n",
    "series2 = [series1[i+1] - series1[i] for i in range(len(series1) - 1)]\n",
    "if max(series0) == min(series0):\n",
    "    order = 0\n",
    "elif max(series1) == min(series1):\n",
    "    order = 1\n",
    "elif max(series2) == min(series2):\n",
    "    order = 2\n",
    "else:\n",
    "    order = None    \n",
    "n = max(n1, n2)    \n",
    "if order == 0:\n",
    "    _series0 = [series0[0]] * n\n",
    "    _series = [series[0]]\n",
    "    for i in range(n):\n",
    "        _series.append(_series[-1] + _series0[i])\n",
    "if order == 1:\n",
    "    _series1 = [series1[0]] * n\n",
    "    _series0 = [series0[0]]\n",
    "    for i in range(n):\n",
    "        _series0.append(_series0[-1] + _series1[i])\n",
    "    _series = [series[0]]\n",
    "    for i in range(n+1):\n",
    "        _series.append(_series[-1] + _series0[i])\n",
    "if order == 2:\n",
    "    _series2 = [series2[0]] * n\n",
    "    _series1 = [series1[0]]\n",
    "    for i in range(n):\n",
    "        _series1.append(_series1[-1] + _series2[i])\n",
    "    _series0 = [series0[0]]\n",
    "    for i in range(n+1):\n",
    "        _series0.append(_series0[-1] + _series1[i])\n",
    "    _series = [series[0]]\n",
    "    for i in range(n+2):\n",
    "        _series.append(_series[-1] + _series0[i])\n",
    "print(_series[n2 - 1] - _series[n1 - 1])        \n",
    "        '''"
   ]
  },
  {
   "cell_type": "code",
   "execution_count": 51,
   "metadata": {},
   "outputs": [
    {
     "name": "stdout",
     "output_type": "stream",
     "text": [
      "20\n"
     ]
    }
   ],
   "source": [
    "exec(code)"
   ]
  },
  {
   "cell_type": "code",
   "execution_count": null,
   "metadata": {},
   "outputs": [],
   "source": []
  }
 ],
 "metadata": {
  "kernelspec": {
   "display_name": "Python 3 (ipykernel)",
   "language": "python",
   "name": "python3"
  },
  "language_info": {
   "codemirror_mode": {
    "name": "ipython",
    "version": 3
   },
   "file_extension": ".py",
   "mimetype": "text/x-python",
   "name": "python",
   "nbconvert_exporter": "python",
   "pygments_lexer": "ipython3",
   "version": "3.8.13"
  }
 },
 "nbformat": 4,
 "nbformat_minor": 4
}
