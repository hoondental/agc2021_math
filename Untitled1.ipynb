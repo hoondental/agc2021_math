{
 "cells": [
  {
   "cell_type": "code",
   "execution_count": 29,
   "metadata": {},
   "outputs": [],
   "source": [
    "import os\n",
    "import math\n",
    "import re\n",
    "import json"
   ]
  },
  {
   "cell_type": "code",
   "execution_count": 25,
   "metadata": {},
   "outputs": [],
   "source": [
    "def read_problemsheet(path):\n",
    "    with open(path, 'r') as f:\n",
    "        data = json.load(f)\n",
    "    problems = {}\n",
    "    for k, v in data.items():\n",
    "        problems[k] = v['question']\n",
    "    return problems\n",
    "\n",
    "\n",
    "def write_problemsheet(problems, path):\n",
    "    data = {}\n",
    "    for k, v in problems.items():\n",
    "        data[k] = {\"question\": v}\n",
    "    with open(path, 'w') as f:\n",
    "        json.dump(data, f, ensure_ascii=False, indent=4)"
   ]
  },
  {
   "cell_type": "code",
   "execution_count": 26,
   "metadata": {},
   "outputs": [],
   "source": [
    "path = 'sample.json'"
   ]
  },
  {
   "cell_type": "code",
   "execution_count": 27,
   "metadata": {},
   "outputs": [],
   "source": [
    "problems = read_problemsheet(path)"
   ]
  },
  {
   "cell_type": "code",
   "execution_count": 28,
   "metadata": {},
   "outputs": [],
   "source": [
    "write_problemsheet(problems, 'sample1.json')"
   ]
  },
  {
   "cell_type": "code",
   "execution_count": 135,
   "metadata": {},
   "outputs": [],
   "source": [
    "re_int = '[0-9]+'\n",
    "re_float = '[0-9]+\\.[0-9]+'\n",
    "re_fraction = '[0-9]+/[0-9]+'\n",
    "re_unknown = '[A-Z]'\n",
    "\n",
    "re_number = re_fraction + '|' + re_float + '|' + re_int\n",
    "re_unknown = '[A-Z]'\n",
    "re_alpha_numeric = '(?:[0-9A-Z]+/[0-9A-Z]+)|(?:[0-9A-Z]+\\.[0-9A-Z]+)|(?:[0-9A-Z]+)'\n",
    "\n",
    "_poq_tags = ['int', 'float', 'unknown', 'numeric_unknown', 'equation', 'name', None]\n",
    "poq_tags = {k:k for k in _poq_tags}\n",
    "\n",
    "numbers = list('0123456789')\n",
    "unknowns = list('ABCDEFGHIJKLMNOPQRSTUVWXYZ')\n",
    "symbols = list('./')\n",
    "alpha_numeric_chars = list('0123456789') + list('ABCDEFGHIJKLMNOPQRSTUVWXYZ') + list('./')\n",
    "\n",
    "\n",
    "class Entity:\n",
    "    Integer = 0\n",
    "    Float = 1\n",
    "    Var = 2\n",
    "    Mixed = 3\n",
    "    Formula = 4\n",
    "    Equation = 5\n",
    "    Name = 6\n",
    "    \n",
    "    def __init__(self, text, etype=None):\n",
    "        self.word = text\n",
    "        self.type = etype\n",
    "    \n",
    "    \n",
    "\n",
    "\n",
    "def atomize_text(text):\n",
    "    re_alpha_numeric = '(?:[0-9A-Z]+/[0-9A-Z]+)|(?:[0-9A-Z]+\\.[0-9A-Z]+)|(?:[0-9A-Z]+)'\n",
    "    numbers = re.finditer(re_alpha_numeric, text)\n",
    "    parts = []\n",
    "    pos = 0\n",
    "    for _number in numbers:\n",
    "        start = _number.start()\n",
    "        end = _number.end()\n",
    "        number = _number.group()\n",
    "        if start > pos:\n",
    "            parts.extend(text[pos:start].strip().split())\n",
    "            pos = start\n",
    "        parts.append(text[start:end])\n",
    "        pos = end\n",
    "    if pos < len(text) - 1:\n",
    "        parts.extend(text[pos:].strip().split())\n",
    "    return parts\n",
    "\n",
    "def parse_components(parts):\n",
    "\n",
    "def rebuild_number(parts):\n",
    "    rebuilt = []\n",
    "    index = 0\n",
    "    for i, p in enumerate(parts):\n",
    "        pass\n",
    "        \n",
    "\n",
    "def separate_numbers_words(text):\n",
    "    numbers = re.finditer(re_number, text)\n",
    "    parts = []\n",
    "    pos = 0\n",
    "    for _number in numbers:\n",
    "        start = _number.start()\n",
    "        end = _number.end()\n",
    "        number = _number.group()\n",
    "        if start > pos:\n",
    "            parts.append(text[pos:start].strip())\n",
    "            pos = start\n",
    "        parts.append(text[start:end].strip())\n",
    "        pos = end\n",
    "    if pos < len(text) - 1:\n",
    "        parts.append(text[pos:].strip())\n",
    "    return parts\n",
    "\n",
    "def build_list(parts):\n",
    "    reparts = []\n",
    "    for p in parts:\n",
    "        if p == ',':\n",
    "            pass\n",
    "            "
   ]
  },
  {
   "cell_type": "code",
   "execution_count": 80,
   "metadata": {},
   "outputs": [],
   "source": [
    "it = re.finditer(re_number, '나는 3/3.3,3개의 사과를 3.3개의 접시에 나눠 담았다')"
   ]
  },
  {
   "cell_type": "code",
   "execution_count": 160,
   "metadata": {},
   "outputs": [
    {
     "data": {
      "text/plain": [
       "['지민,',\n",
       " '정국,',\n",
       " '태형이의',\n",
       " '수학',\n",
       " '점수는',\n",
       " '각각',\n",
       " '94',\n",
       " '점,',\n",
       " '82',\n",
       " '점,',\n",
       " '88',\n",
       " '점',\n",
       " '입니다.',\n",
       " '이',\n",
       " '셋을',\n",
       " '제외한',\n",
       " '학급의',\n",
       " '수학',\n",
       " '점수',\n",
       " '평균은',\n",
       " '78',\n",
       " '점입니다']"
      ]
     },
     "execution_count": 160,
     "metadata": {},
     "output_type": "execute_result"
    }
   ],
   "source": [
    "atomize_text('지민, 정국, 태형이의 수학 점수는 각각 94점, 82점, 88점 입니다. 이 셋을 제외한 학급의 수학 점수 평균은 78점입니다')"
   ]
  },
  {
   "cell_type": "code",
   "execution_count": 83,
   "metadata": {},
   "outputs": [
    {
     "ename": "ValueError",
     "evalue": "invalid literal for int() with base 10: '3.3'",
     "output_type": "error",
     "traceback": [
      "\u001b[0;31m---------------------------------------------------------------------------\u001b[0m",
      "\u001b[0;31mValueError\u001b[0m                                Traceback (most recent call last)",
      "\u001b[0;32m<ipython-input-83-4c4b6c41a6ae>\u001b[0m in \u001b[0;36m<module>\u001b[0;34m\u001b[0m\n\u001b[0;32m----> 1\u001b[0;31m \u001b[0mint\u001b[0m\u001b[0;34m(\u001b[0m\u001b[0;34m'3.3'\u001b[0m\u001b[0;34m)\u001b[0m\u001b[0;34m\u001b[0m\u001b[0;34m\u001b[0m\u001b[0m\n\u001b[0m",
      "\u001b[0;31mValueError\u001b[0m: invalid literal for int() with base 10: '3.3'"
     ]
    }
   ],
   "source": [
    "int('3.3')"
   ]
  },
  {
   "cell_type": "code",
   "execution_count": 92,
   "metadata": {},
   "outputs": [
    {
     "data": {
      "text/plain": [
       "True"
      ]
     },
     "execution_count": 92,
     "metadata": {},
     "output_type": "execute_result"
    }
   ],
   "source": [
    "re.match(re_int, ' a34'.strip()) == None"
   ]
  },
  {
   "cell_type": "code",
   "execution_count": 130,
   "metadata": {},
   "outputs": [],
   "source": [
    "re_alpha_numeric = '(?:[0-9A-Z]+/[0-9A-Z]+)|(?:[0-9A-Z]+\\.[0-9A-Z]+)|(?:[0-9A-Z]+)'"
   ]
  },
  {
   "cell_type": "code",
   "execution_count": 132,
   "metadata": {},
   "outputs": [
    {
     "name": "stdout",
     "output_type": "stream",
     "text": [
      "1\n",
      "2\n",
      "3\n",
      "3\n",
      "3.3\n",
      "2/3\n",
      "3A.4\n",
      "2\n",
      "A\n",
      "3A\n",
      "AB\n",
      "3\n",
      "B\n"
     ]
    }
   ],
   "source": [
    "for it in re.finditer(re_alpha_numeric, '1, 2,3 3개의 수 중에서 3.3 과 2/3 은 제3A.4/2외하고 A 또는 3A 또는 AB = 3 + B'):\n",
    "    print(it.group())"
   ]
  },
  {
   "cell_type": "code",
   "execution_count": 127,
   "metadata": {},
   "outputs": [],
   "source": [
    "def squeeze_around_alpha_numeric(text):\n",
    "    _re = ' +(' + re_alpha_numeric + ') +'\n",
    "    print(_re)\n",
    "    return re.sub(_re, r'\\1', text)"
   ]
  },
  {
   "cell_type": "code",
   "execution_count": 128,
   "metadata": {},
   "outputs": [
    {
     "name": "stdout",
     "output_type": "stream",
     "text": [
      " +((?:[0-9A-Z]+[./][0-9A-Z]+)|(?:[0-9A-Z]+)) +\n"
     ]
    },
    {
     "data": {
      "text/plain": [
       "'1, 2,3 3개의 수 중에서3.3과2/3은 제외하고A또는3A또는AB=3+ B'"
      ]
     },
     "execution_count": 128,
     "metadata": {},
     "output_type": "execute_result"
    }
   ],
   "source": [
    "squeeze_around_alpha_numeric('1, 2,3 3개의 수 중에서 3.3 과 2/3 은 제외하고 A 또는 3A 또는 AB = 3 + B')"
   ]
  },
  {
   "cell_type": "code",
   "execution_count": 156,
   "metadata": {},
   "outputs": [],
   "source": [
    "code = '''\n",
    "class A:\n",
    "    a = 3\n",
    "print(3)\n",
    "'''"
   ]
  },
  {
   "cell_type": "code",
   "execution_count": 157,
   "metadata": {},
   "outputs": [
    {
     "ename": "SyntaxError",
     "evalue": "invalid syntax (<string>, line 2)",
     "output_type": "error",
     "traceback": [
      "Traceback \u001b[0;36m(most recent call last)\u001b[0m:\n",
      "  File \u001b[1;32m\"/home/dhlee/anaconda3/envs/p36/lib/python3.6/site-packages/IPython/core/interactiveshell.py\"\u001b[0m, line \u001b[1;32m3343\u001b[0m, in \u001b[1;35mrun_code\u001b[0m\n    exec(code_obj, self.user_global_ns, self.user_ns)\n",
      "\u001b[0;36m  File \u001b[0;32m\"<ipython-input-157-f29b3e8bd390>\"\u001b[0;36m, line \u001b[0;32m1\u001b[0;36m, in \u001b[0;35m<module>\u001b[0;36m\u001b[0m\n\u001b[0;31m    eval(code)\u001b[0m\n",
      "\u001b[0;36m  File \u001b[0;32m\"<string>\"\u001b[0;36m, line \u001b[0;32m2\u001b[0m\n\u001b[0;31m    class A:\u001b[0m\n\u001b[0m        ^\u001b[0m\n\u001b[0;31mSyntaxError\u001b[0m\u001b[0;31m:\u001b[0m invalid syntax\n"
     ]
    }
   ],
   "source": [
    "eval(code)"
   ]
  },
  {
   "cell_type": "code",
   "execution_count": 158,
   "metadata": {},
   "outputs": [
    {
     "data": {
      "text/plain": [
       "'\\nclass A:\\n    a = 3\\nprint(3)\\n'"
      ]
     },
     "execution_count": 158,
     "metadata": {},
     "output_type": "execute_result"
    }
   ],
   "source": [
    "code"
   ]
  },
  {
   "cell_type": "code",
   "execution_count": 159,
   "metadata": {},
   "outputs": [
    {
     "name": "stdout",
     "output_type": "stream",
     "text": [
      "3\n"
     ]
    }
   ],
   "source": [
    "exec(code)"
   ]
  },
  {
   "cell_type": "code",
   "execution_count": 162,
   "metadata": {},
   "outputs": [],
   "source": [
    "import numpy as np"
   ]
  },
  {
   "cell_type": "code",
   "execution_count": 176,
   "metadata": {},
   "outputs": [
    {
     "name": "stdout",
     "output_type": "stream",
     "text": [
      "바보\n",
      "1\n",
      "바보\n",
      "1\n",
      "2\n",
      "3\n",
      "3\n",
      "1\n",
      "1\n",
      "1\n",
      "바보\n",
      "2\n",
      "바보\n",
      "2\n",
      "바보\n",
      "바보\n",
      "3\n",
      "1\n",
      "바보\n",
      "1\n",
      "3\n",
      "1\n",
      "3\n",
      "3\n",
      "바보\n",
      "바보\n",
      "3\n",
      "바보\n",
      "2\n",
      "바보\n",
      "3\n",
      "바보\n",
      "바보\n",
      "바보\n",
      "1\n",
      "바보\n",
      "1\n",
      "1\n",
      "3\n",
      "1\n",
      "바보\n",
      "3\n",
      "2\n",
      "바보\n",
      "2\n",
      "3\n",
      "1\n",
      "2\n",
      "바보\n",
      "3\n",
      "2\n",
      "1\n",
      "1\n",
      "1\n",
      "3\n",
      "1\n",
      "1\n",
      "2\n",
      "2\n",
      "2\n",
      "2\n",
      "2\n",
      "바보\n",
      "3\n",
      "1\n",
      "바보\n",
      "1\n",
      "바보\n",
      "2\n",
      "1\n",
      "2\n",
      "2\n",
      "2\n",
      "1\n",
      "3\n",
      "3\n",
      "1\n",
      "3\n",
      "2\n",
      "3\n",
      "1\n",
      "바보\n",
      "바보\n",
      "1\n",
      "2\n",
      "바보\n",
      "2\n",
      "3\n",
      "3\n",
      "3\n",
      "바보\n",
      "3\n",
      "2\n",
      "3\n",
      "2\n",
      "1\n",
      "바보\n",
      "2\n",
      "바보\n",
      "2\n"
     ]
    }
   ],
   "source": [
    "for i in range(100):\n",
    "    print(np.random.choice([1,2,3,'바보']))"
   ]
  },
  {
   "cell_type": "code",
   "execution_count": 191,
   "metadata": {},
   "outputs": [
    {
     "data": {
      "text/plain": [
       "'slhfsdhk'"
      ]
     },
     "execution_count": 191,
     "metadata": {},
     "output_type": "execute_result"
    }
   ],
   "source": [
    "a = 'dhk'\n",
    "f\"slhfs{a}\""
   ]
  },
  {
   "cell_type": "code",
   "execution_count": 178,
   "metadata": {},
   "outputs": [
    {
     "data": {
      "text/plain": [
       "[' ', 1, 2, 3]"
      ]
     },
     "execution_count": 178,
     "metadata": {},
     "output_type": "execute_result"
    }
   ],
   "source": [
    "_([1,2,3])"
   ]
  },
  {
   "cell_type": "code",
   "execution_count": 184,
   "metadata": {},
   "outputs": [
    {
     "data": {
      "text/plain": [
       "True"
      ]
     },
     "execution_count": 184,
     "metadata": {},
     "output_type": "execute_result"
    }
   ],
   "source": [
    "12 / 3 == 12 // 3.0"
   ]
  },
  {
   "cell_type": "code",
   "execution_count": 180,
   "metadata": {},
   "outputs": [
    {
     "data": {
      "text/plain": [
       "4"
      ]
     },
     "execution_count": 180,
     "metadata": {},
     "output_type": "execute_result"
    }
   ],
   "source": [
    "int(4.0)"
   ]
  },
  {
   "cell_type": "code",
   "execution_count": 181,
   "metadata": {},
   "outputs": [
    {
     "data": {
      "text/plain": [
       "4"
      ]
     },
     "execution_count": 181,
     "metadata": {},
     "output_type": "execute_result"
    }
   ],
   "source": [
    "int(4.3)"
   ]
  },
  {
   "cell_type": "code",
   "execution_count": 182,
   "metadata": {},
   "outputs": [
    {
     "data": {
      "text/plain": [
       "12.0"
      ]
     },
     "execution_count": 182,
     "metadata": {},
     "output_type": "execute_result"
    }
   ],
   "source": [
    "12 / 1"
   ]
  },
  {
   "cell_type": "code",
   "execution_count": 192,
   "metadata": {},
   "outputs": [],
   "source": [
    "import torch, torch.nn as nn"
   ]
  },
  {
   "cell_type": "code",
   "execution_count": 193,
   "metadata": {},
   "outputs": [
    {
     "data": {
      "text/plain": [
       "tensor([[ 0.9590,  1.1040,  0.3340, -0.3080],\n",
       "        [-0.5259, -1.6344,  1.5830, -0.5421],\n",
       "        [-1.7387,  0.5499, -0.5598,  0.0661]])"
      ]
     },
     "execution_count": 193,
     "metadata": {},
     "output_type": "execute_result"
    }
   ],
   "source": [
    "x = torch.randn(3, 4)\n",
    "x"
   ]
  },
  {
   "cell_type": "code",
   "execution_count": 195,
   "metadata": {},
   "outputs": [],
   "source": [
    "y = torch.tensor([0, 1, 2, 3], dtype=torch.int64)"
   ]
  },
  {
   "cell_type": "code",
   "execution_count": 198,
   "metadata": {},
   "outputs": [
    {
     "data": {
      "text/plain": [
       "tensor([[ 0.9590, -0.5259, -1.7387],\n",
       "        [ 1.1040, -1.6344,  0.5499],\n",
       "        [ 0.3340,  1.5830, -0.5598],\n",
       "        [-0.3080, -0.5421,  0.0661]])"
      ]
     },
     "execution_count": 198,
     "metadata": {},
     "output_type": "execute_result"
    }
   ],
   "source": [
    "x.transpose(0, 1)[y]"
   ]
  },
  {
   "cell_type": "code",
   "execution_count": 190,
   "metadata": {},
   "outputs": [
    {
     "name": "stdout",
     "output_type": "stream",
     "text": [
      "{3.40}\n"
     ]
    }
   ],
   "source": [
    "print('{%.2f}'%3.4)"
   ]
  },
  {
   "cell_type": "code",
   "execution_count": null,
   "metadata": {},
   "outputs": [],
   "source": []
  }
 ],
 "metadata": {
  "kernelspec": {
   "display_name": "Python 3",
   "language": "python",
   "name": "python3"
  },
  "language_info": {
   "codemirror_mode": {
    "name": "ipython",
    "version": 3
   },
   "file_extension": ".py",
   "mimetype": "text/x-python",
   "name": "python",
   "nbconvert_exporter": "python",
   "pygments_lexer": "ipython3",
   "version": "3.6.13"
  }
 },
 "nbformat": 4,
 "nbformat_minor": 4
}
