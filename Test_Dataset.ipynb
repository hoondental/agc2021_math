{
 "cells": [
  {
   "cell_type": "code",
   "execution_count": 1,
   "metadata": {},
   "outputs": [],
   "source": [
    "import os\n",
    "import re\n",
    "import numpy as np\n",
    "\n",
    "\n",
    "from pkg.util import read_problemsheet, write_problemsheet\n",
    "from pkg.parse import *\n",
    "from pkg.words import *\n",
    "from pkg.dataset import ProblemDataset, QuestionDataset, read_questions, write_questions\n",
    "from pkg.vocab import Vocab, CharVocab, SPVocab\n",
    "\n",
    "from problems import *\n",
    "\n",
    "import torch, torch.nn as nn, torch.nn.functional as F\n",
    "import time\n"
   ]
  },
  {
   "cell_type": "code",
   "execution_count": 2,
   "metadata": {},
   "outputs": [],
   "source": [
    "dir_question = 'data/question'\n",
    "path_question_0 = os.path.join(dir_question, 'question_0.txt')\n",
    "meta = read_questions(path_question_0)"
   ]
  },
  {
   "cell_type": "code",
   "execution_count": 3,
   "metadata": {},
   "outputs": [
    {
     "name": "stdout",
     "output_type": "stream",
     "text": [
      "tokenization/prob_768_.model\n",
      "768\n"
     ]
    }
   ],
   "source": [
    "vocab_size = 768\n",
    "add_space_token = True\n",
    "dir_token = 'tokenization'\n",
    "filename = 'prob'\n",
    "filename += '_' + str(vocab_size)\n",
    "if add_space_token:\n",
    "    filename += '_'\n",
    "filename += '.model'\n",
    "path_model = os.path.join(dir_token, filename)\n",
    "print(path_model)\n",
    "vocab = SPVocab(path_model)\n",
    "print(vocab.vocab_size())"
   ]
  },
  {
   "cell_type": "code",
   "execution_count": 8,
   "metadata": {},
   "outputs": [
    {
     "name": "stdout",
     "output_type": "stream",
     "text": [
      "41.32680583000183\n"
     ]
    }
   ],
   "source": [
    "start = time.time()\n",
    "ds = QuestionDataset(meta, vocab, batch_size=64)\n",
    "print(time.time() - start)"
   ]
  },
  {
   "cell_type": "code",
   "execution_count": 9,
   "metadata": {
    "scrolled": false
   },
   "outputs": [],
   "source": [
    "dl = iter(ds.get_loader())"
   ]
  },
  {
   "cell_type": "code",
   "execution_count": 15,
   "metadata": {},
   "outputs": [
    {
     "data": {
      "text/plain": [
       "torch.Size([64, 83])"
      ]
     },
     "execution_count": 15,
     "metadata": {},
     "output_type": "execute_result"
    }
   ],
   "source": [
    "next(dl)['text'].shape"
   ]
  },
  {
   "cell_type": "code",
   "execution_count": 7,
   "metadata": {},
   "outputs": [
    {
     "data": {
      "text/plain": [
       "[193,\n",
       " 299,\n",
       " 3,\n",
       " 205,\n",
       " 193,\n",
       " 276,\n",
       " 203,\n",
       " 193,\n",
       " 3,\n",
       " 232,\n",
       " 200,\n",
       " 193,\n",
       " 493,\n",
       " 199,\n",
       " 193,\n",
       " 3,\n",
       " 193,\n",
       " 3,\n",
       " 193,\n",
       " 202,\n",
       " 3,\n",
       " 193,\n",
       " 202,\n",
       " 750,\n",
       " 83,\n",
       " 193,\n",
       " 3,\n",
       " 661,\n",
       " 202,\n",
       " 193,\n",
       " 195,\n",
       " 193,\n",
       " 244,\n",
       " 205,\n",
       " 222,\n",
       " 217,\n",
       " 217,\n",
       " 217,\n",
       " 224]"
      ]
     },
     "execution_count": 7,
     "metadata": {},
     "output_type": "execute_result"
    }
   ],
   "source": [
    "vocab.sp.encode_as_ids('오링을 하고 링거를 맞는 링겔 뭐 이런 이상한 놈들이 다 있을까...나 ')"
   ]
  },
  {
   "cell_type": "code",
   "execution_count": null,
   "metadata": {},
   "outputs": [],
   "source": []
  }
 ],
 "metadata": {
  "kernelspec": {
   "display_name": "Python 3",
   "language": "python",
   "name": "python3"
  },
  "language_info": {
   "codemirror_mode": {
    "name": "ipython",
    "version": 3
   },
   "file_extension": ".py",
   "mimetype": "text/x-python",
   "name": "python",
   "nbconvert_exporter": "python",
   "pygments_lexer": "ipython3",
   "version": "3.6.13"
  }
 },
 "nbformat": 4,
 "nbformat_minor": 4
}
