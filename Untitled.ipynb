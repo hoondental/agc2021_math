{
 "cells": [
  {
   "cell_type": "code",
   "execution_count": 2,
   "metadata": {},
   "outputs": [],
   "source": [
    "import os\n",
    "import time\n",
    "import re\n",
    "import math\n",
    "import numpy\n",
    "import torch, torch.nn as nn, torch.nn.functional as F\n",
    "import itertools\n",
    "\n",
    "from pkg.entity import Entity"
   ]
  },
  {
   "cell_type": "code",
   "execution_count": 1,
   "metadata": {},
   "outputs": [],
   "source": [
    "from konlpy.tag import Kkma\n",
    "from konlpy.utils import pprint\n",
    "kkma = Kkma()"
   ]
  },
  {
   "cell_type": "code",
   "execution_count": 3,
   "metadata": {},
   "outputs": [],
   "source": [
    "prob_types = ['산술연산', '순서정하기', '조합하기', '수찾기-1', '수찾기-2', '수찾기-3', '수규칙', '문자규칙', '크기비교']"
   ]
  },
  {
   "cell_type": "code",
   "execution_count": 3,
   "metadata": {},
   "outputs": [],
   "source": [
    "prob_words = {}\n",
    "prob_words['장소,명칭'] = ['(가)', '(나)', '(다)', '(라)', '(마)', '(바)', '(사)', '(아)', '(자)',\n",
    "                       '(차)', '(카)', '(타)', '(파)', '(하)']\n",
    "prob_words['미지수'] = ['A', 'B', 'C', 'D', 'E', 'F', 'G', 'H', 'I', 'J', 'K', 'L', 'M',\n",
    "                     'N', 'O', 'P', 'Q', 'R', 'S', 'T', 'U', 'V', 'W', 'X', 'Y', 'Z']\n",
    "prob_words['인물'] = ['남준', '석진', '윤기', '호석', '지민', '태형', '정국', '민영', '유정', '은지', '유나']\n",
    "prob_words['순위'] = ['1등', '2등', '꼴지']\n",
    "prob_words['방향,순서'] = ['앞', '뒤', '옆', '가로', '세로', '왼쪽', '오른쪽']\n",
    "prob_words['연도'] = ['올해', '작년', '내년', '2021년']\n",
    "prob_words['비교:크기'] = ['큰', '작은', '크다', '작다']\n",
    "prob_words['비교:속력'] = ['빠른', '느린']\n",
    "prob_words['비교:순서'] = ['먼저', '늦게']\n",
    "prob_words['비교:수량'] = ['많다', '적다']\n",
    "prob_words['금액'] = ['몇 원', '몇 원짜리']\n",
    "prob_words['순서'] = ['첫 번째', '두 번째', '첫째 번', '둘째 번']\n",
    "prob_words['자리수'] = ['일의 자리 숫자', '십의 자리 숫자']\n",
    "prob_words['단위'] = ['km', 'm', 'cm', 'kg', '마리', '송이', '대', '그루', '권', '자루', '쪽', '살', '켤레', '줄', \n",
    "                   '벌', '타', '조각', '등', '리터']\n",
    "prob_words[''] = []\n",
    "prob_words[''] = []"
   ]
  },
  {
   "cell_type": "code",
   "execution_count": 4,
   "metadata": {},
   "outputs": [],
   "source": []
  },
  {
   "cell_type": "code",
   "execution_count": 11,
   "metadata": {},
   "outputs": [
    {
     "data": {
      "text/plain": [
       "[('어떠하', 'VA'),\n",
       " ('ㄴ', 'ETD'),\n",
       " ('수', 'NNB'),\n",
       " ('만큼', 'NNG'),\n",
       " ('크', 'VA'),\n",
       " ('ㄴ', 'ETD'),\n",
       " ('수', 'NNB'),\n",
       " ('는', 'JX')]"
      ]
     },
     "execution_count": 11,
     "metadata": {},
     "output_type": "execute_result"
    }
   ],
   "source": [
    "kkma.pos('어떠한 수 만큼 큰 수는')"
   ]
  },
  {
   "cell_type": "code",
   "execution_count": 15,
   "metadata": {},
   "outputs": [
    {
     "data": {
      "text/plain": [
       "[('어떤', 'MDT'), ('수', 'NNG')]"
      ]
     },
     "execution_count": 15,
     "metadata": {},
     "output_type": "execute_result"
    }
   ],
   "source": [
    "kkma.pos('어떤 수')"
   ]
  },
  {
   "cell_type": "code",
   "execution_count": 16,
   "metadata": {},
   "outputs": [],
   "source": [
    "numbers = [0, 1, 2, 3, 4]"
   ]
  },
  {
   "cell_type": "code",
   "execution_count": 19,
   "metadata": {},
   "outputs": [
    {
     "data": {
      "text/plain": [
       "[0, 2, 4]"
      ]
     },
     "execution_count": 19,
     "metadata": {},
     "output_type": "execute_result"
    }
   ],
   "source": [
    "list(filter(lambda x: x % 2 == 0, numbers))"
   ]
  },
  {
   "cell_type": "code",
   "execution_count": 22,
   "metadata": {},
   "outputs": [],
   "source": [
    "def filter_odd_number(numbers):\n",
    "    return list(filter(lambda x: x % 2 == 0, numbers))"
   ]
  },
  {
   "cell_type": "code",
   "execution_count": 23,
   "metadata": {},
   "outputs": [
    {
     "data": {
      "text/plain": [
       "[0, 2, 4]"
      ]
     },
     "execution_count": 23,
     "metadata": {},
     "output_type": "execute_result"
    }
   ],
   "source": [
    "filter_odd_number(numbers)"
   ]
  },
  {
   "cell_type": "code",
   "execution_count": null,
   "metadata": {},
   "outputs": [],
   "source": []
  }
 ],
 "metadata": {
  "kernelspec": {
   "display_name": "Python 3",
   "language": "python",
   "name": "python3"
  },
  "language_info": {
   "codemirror_mode": {
    "name": "ipython",
    "version": 3
   },
   "file_extension": ".py",
   "mimetype": "text/x-python",
   "name": "python",
   "nbconvert_exporter": "python",
   "pygments_lexer": "ipython3",
   "version": "3.7.7"
  }
 },
 "nbformat": 4,
 "nbformat_minor": 4
}
